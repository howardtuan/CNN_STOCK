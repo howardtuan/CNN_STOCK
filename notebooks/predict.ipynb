{
 "cells": [
  {
   "cell_type": "code",
   "execution_count": 58,
   "metadata": {},
   "outputs": [],
   "source": [
    "import torch\n",
    "from torchvision import transforms\n",
    "from PIL import Image\n",
    "import numpy as np\n",
    "import torch.nn as nn\n",
    "from collections import OrderedDict"
   ]
  },
  {
   "cell_type": "code",
   "execution_count": 59,
   "metadata": {},
   "outputs": [],
   "source": [
    "# Initialize\n",
    "class Config:\n",
    "    USE_GPU = True\n",
    "    USE_RANDOM_SPLIT = False\n",
    "    USE_DATAPARALLEL = True\n",
    "    SEED = 42\n",
    "    NUM_EPOCHS = 30\n",
    "    LEARNING_RATE = 0.00001\n",
    "    BATCH_SIZE = 128\n",
    "    IMG_HEIGHT = {5: 32, 20: 64, 60: 96}\n",
    "    IMG_WIDTH = {5: 15, 20: 60, 60: 180}\n",
    "    IMG_CHANNELS = 1\n",
    "    \n",
    "    # Early stopping\n",
    "    EARLY_STOPPING_PATIENCE = 2  \n",
    "    MIN_DELTA = 0.00001"
   ]
  },
  {
   "cell_type": "code",
   "execution_count": 60,
   "metadata": {},
   "outputs": [],
   "source": [
    "IMG_HEIGHT_SELECTED = 32\n",
    "IMG_WIDTH_SELECTED = 15\n",
    "\n",
    "class CNN5d(nn.Module):\n",
    "    def init_weights(self, m):\n",
    "        if isinstance(m, nn.Linear) or isinstance(m, nn.Conv2d):\n",
    "            torch.nn.init.xavier_uniform_(m.weight)  # 修正\n",
    "            m.bias.data.fill_(0.01)\n",
    "    \n",
    "    def __init__(self):\n",
    "        super(CNN5d, self).__init__()\n",
    "        self.conv1 = nn.Sequential(OrderedDict([\n",
    "            ('Conv', nn.Conv2d(1, 64, (5, 3), padding=(2, 1), stride=(1, 1), dilation=(1, 1))),\n",
    "            ('BN', nn.BatchNorm2d(64, affine=True)),\n",
    "            ('ReLU', nn.ReLU()),\n",
    "            ('Max-Pool', nn.MaxPool2d((2, 1)))\n",
    "        ]))\n",
    "        self.conv1 = self.conv1.apply(self.init_weights)\n",
    "        \n",
    "        self.conv2 = nn.Sequential(OrderedDict([\n",
    "            ('Conv', nn.Conv2d(64, 128, (5, 3), padding=(2, 1), stride=(1, 1), dilation=(1, 1))),\n",
    "            ('BN', nn.BatchNorm2d(128, affine=True)),\n",
    "            ('ReLU', nn.ReLU()),\n",
    "            ('Max-Pool', nn.MaxPool2d((2, 1)))\n",
    "        ]))\n",
    "        self.conv2 = self.conv2.apply(self.init_weights)\n",
    "        \n",
    "        # 計算攤平大小\n",
    "        dummy_input = torch.zeros(1, 1, IMG_HEIGHT_SELECTED, IMG_WIDTH_SELECTED)\n",
    "        flattened_size = self.conv2(self.conv1(dummy_input)).view(1, -1).shape[1]\n",
    "\n",
    "        self.DropOut = nn.Dropout(p=0.5)\n",
    "        self.FC = nn.Linear(flattened_size, 2)\n",
    "        self.FC.apply(self.init_weights)\n",
    "\n",
    "    def forward(self, x): \n",
    "        # 輸入數據應為 [N, 32, 15]\n",
    "        if x.ndim == 4:  # 若有多餘維度，去掉\n",
    "            x = x.squeeze(1)\n",
    "        x = x.unsqueeze(1).to(torch.float32)  # 增加通道維度，變為 [N, 1, 32, 15]\n",
    "        x = self.conv1(x)  # 通過卷積層\n",
    "        x = self.conv2(x)  # 通過第二層卷積\n",
    "        x = self.DropOut(x.view(x.shape[0], -1))  # 攤平\n",
    "        x = self.FC(x)  # 全連接層\n",
    "        return x"
   ]
  },
  {
   "cell_type": "code",
   "execution_count": 61,
   "metadata": {},
   "outputs": [],
   "source": [
    "# 定義加載模型的函數\n",
    "def load_model_for_prediction(filename='best_model.pth'):\n",
    "    model = CNN5d()  # 初始化模型結構\n",
    "    checkpoint = torch.load(filename, map_location=torch.device('cpu'))\n",
    "    model.load_state_dict(checkpoint['model_state_dict'], strict=False)\n",
    "    model.eval()  # 設置為評估模式\n",
    "    return model"
   ]
  },
  {
   "cell_type": "code",
   "execution_count": 62,
   "metadata": {},
   "outputs": [],
   "source": [
    "# 定義預測函數\n",
    "def predict_new_data(model, image_paths):\n",
    "    predictions = []\n",
    "    probabilities = []\n",
    "\n",
    "    for image_path in image_paths:\n",
    "        try:\n",
    "            # 加載圖片並轉為 Tensor\n",
    "            image = Image.open(image_path).convert('1')  # 保留二值圖像\n",
    "            image_tensor = torch.tensor(np.array(image, dtype=np.float32))  # 轉為浮點數 Tensor\n",
    "            image_tensor = image_tensor.unsqueeze(0).unsqueeze(0)  # 增加 batch 和 channel 維度\n",
    "        except Exception as e:\n",
    "            print(f\"Error loading image {image_path}: {e}\")\n",
    "            continue\n",
    "\n",
    "        with torch.no_grad():\n",
    "            outputs = model(image_tensor)\n",
    "            probs = torch.nn.functional.softmax(outputs, dim=1)\n",
    "            predicted_class = torch.argmax(probs, dim=1).item()\n",
    "            predictions.append(predicted_class)\n",
    "            probabilities.append(probs.numpy().flatten())\n",
    "\n",
    "    return predictions, probabilities"
   ]
  },
  {
   "cell_type": "code",
   "execution_count": null,
   "metadata": {},
   "outputs": [
    {
     "name": "stdout",
     "output_type": "stream",
     "text": [
      "Image: C:\\Users\\user\\Desktop\\Leet\\finance\\data\\pred_5_to_5\\5_5\\5381_20070712.png\n",
      "Predicted Class: 0\n",
      "Probabilities: [0.5258791  0.47412086]\n",
      "Image: C:\\Users\\user\\Desktop\\Leet\\finance\\data\\pred_5_to_5\\5_5\\5381_20070823.png\n",
      "Predicted Class: 1\n",
      "Probabilities: [0.4781194 0.5218806]\n"
     ]
    }
   ],
   "source": [
    "# 主程式示例\n",
    "if __name__ == \"__main__\":\n",
    "    # 模型路徑\n",
    "    model_path = './best_model_hung.pth'\n",
    "    model = load_model_for_prediction(model_path)\n",
    "\n",
    "    # 測試圖片路徑\n",
    "    image_paths = [\n",
    "        'C:\\\\Users\\\\user\\\\Desktop\\\\Leet\\\\finance\\\\data\\\\pred_5_to_5\\\\5_5\\\\1101_20040105.png',  \n",
    "        'C:\\\\Users\\\\user\\\\Desktop\\\\Leet\\\\finance\\\\data\\\\pred_5_to_5\\\\5_5\\\\5381_20070823.png',\n",
    "    ]\n",
    "\n",
    "    predictions, probabilities = predict_new_data(model, image_paths)\n",
    "\n",
    "    for img, pred, prob in zip(image_paths, predictions, probabilities):\n",
    "        print(f\"Image: {img}\")\n",
    "        print(f\"Predicted Class: {pred}\")\n",
    "        print(f\"Probabilities: {prob}\")"
   ]
  }
 ],
 "metadata": {
  "kernelspec": {
   "display_name": "Python 3",
   "language": "python",
   "name": "python3"
  },
  "language_info": {
   "codemirror_mode": {
    "name": "ipython",
    "version": 3
   },
   "file_extension": ".py",
   "mimetype": "text/x-python",
   "name": "python",
   "nbconvert_exporter": "python",
   "pygments_lexer": "ipython3",
   "version": "3.9.9"
  }
 },
 "nbformat": 4,
 "nbformat_minor": 2
}
